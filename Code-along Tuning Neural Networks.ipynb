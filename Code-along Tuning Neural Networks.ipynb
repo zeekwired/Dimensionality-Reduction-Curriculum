{
  "cells": [
    {
      "cell_type": "markdown",
      "metadata": {
        "id": "AGKAZlCh02cl"
      },
      "source": [
        "# Tuning Neural Networking in Keras"
      ]
    },
    {
      "cell_type": "markdown",
      "metadata": {
        "id": "OStduN-207_9"
      },
      "source": [
        "We will use the version of Keras that comes in the Tensorflow package, as it has the most up to date tools.\n",
        "\n",
        "Keras works as weapper for deep learning model to be used as classification or regression estimators in sklearn"
      ]
    },
    {
      "cell_type": "code",
      "execution_count": 1,
      "metadata": {
        "ExecuteTime": {
          "end_time": "2023-01-31T20:05:02.438658Z",
          "start_time": "2023-01-31T20:04:58.456012Z"
        },
        "id": "Zw6CH1mp0zR4"
      },
      "outputs": [],
      "source": [
        "import pandas as pd\n",
        "import numpy as np\n",
        "\n",
        "import matplotlib.pyplot as plt\n",
        "from seaborn import heatmap\n",
        "\n",
        "from sklearn.metrics import mean_squared_error, mean_absolute_error, r2_score, \\\n",
        "classification_report, ConfusionMatrixDisplay\n",
        "from sklearn.preprocessing import MinMaxScaler\n",
        "from sklearn.model_selection import train_test_split\n",
        "\n",
        "# new libraries\n",
        "import tensorflow as tf\n",
        "import tensorflow.keras as keras\n",
        "from keras.models import Sequential\n",
        "from keras.layers import Dense, Dropout\n",
        "\n",
        "# Set random seeds for consistent outcomes\n",
        "keras.backend.clear_session()\n",
        "np.random.seed(42)\n",
        "tf.random.set_seed(42)"
      ]
    },
    {
      "cell_type": "markdown",
      "metadata": {
        "id": "6av8wiIVxgg2"
      },
      "source": [
        "## Useful Functions"
      ]
    },
    {
      "cell_type": "code",
      "execution_count": 2,
      "metadata": {
        "ExecuteTime": {
          "end_time": "2023-01-31T20:05:02.453635Z",
          "start_time": "2023-01-31T20:05:02.439701Z"
        },
        "id": "0Hec9c8Lxgg2"
      },
      "outputs": [],
      "source": [
        "def eval_regression(model, X, y, name='model'):\n",
        "    \"\"\"Returns a dataframe with regression metrics.  \n",
        "    optional name variable can be used to name each model and/or dataset used \n",
        "    for clarity\"\"\"\n",
        "    score_df = pd.DataFrame(index=[name])\n",
        "    preds = model.predict(X)\n",
        "    score_df.loc[name,'MAE'] = mean_absolute_error(y, preds)\n",
        "    score_df.loc[name,'RMSE'] = np.sqrt(mean_squared_error(y, preds))\n",
        "    score_df.loc[name,'R2'] = r2_score(y, preds)\n",
        "    return score_df\n",
        "\n",
        "def plot_history(history):\n",
        "  \"\"\"Takes a keras model learning history and plots each metric\"\"\"\n",
        "  \n",
        "  metrics = history.history.keys()\n",
        "  \n",
        "  for metric in metrics:\n",
        "      if not 'val' in metric:\n",
        "        plt.plot(history.history[f'{metric}'], label=f'{metric}')\n",
        "        if f'val_{metric}' in metrics:\n",
        "          plt.plot(history.history[f'val_{metric}'], label=f'val_{metric}')\n",
        "        plt.legend()\n",
        "        plt.title(f'{metric}')\n",
        "        plt.show()"
      ]
    },
    {
      "cell_type": "markdown",
      "metadata": {
        "id": "RAUUTWm93ojP"
      },
      "source": [
        "# Data\n",
        "\n",
        "We will be working with 2 different datasets in this project, 1 is a regression dataset and the other is a classification dataset.  This way you can practice doing both using deep learning.\n",
        "\n",
        "**NOTE**\n",
        "\n",
        "These datasets are very small for deep learning.  Deep learning models usually work best with very large datasets with at least 10,000 or more samples.  They work best on even larger datasets than that.  But, for demonstration we will use these smaller datasets.\n",
        "\n",
        "## Regression\n",
        "This is a dataset of housing prices in Boston from 1978.  Each row is a house and the dataset includes several features regarding each house.  Our target today will be the price of the home.\n",
        "\n"
      ]
    },
    {
      "cell_type": "code",
      "execution_count": 3,
      "metadata": {
        "ExecuteTime": {
          "end_time": "2023-01-31T20:05:02.529898Z",
          "start_time": "2023-01-31T20:05:02.455628Z"
        },
        "id": "8_PM7Bt81FKh"
      },
      "outputs": [],
      "source": [
        "regression_df = pd.read_csv('https://raw.githubusercontent.com/ninja-josh/image-storage/main/Boston_Housing_from_Sklearn.csv')"
      ]
    },
    {
      "cell_type": "markdown",
      "metadata": {
        "id": "1YPAPvdG6Sqy"
      },
      "source": [
        "# Regression\n",
        "\n",
        "Let's start with modeling the regression dataset"
      ]
    },
    {
      "cell_type": "code",
      "execution_count": 4,
      "metadata": {
        "ExecuteTime": {
          "end_time": "2023-01-31T20:05:02.560895Z",
          "start_time": "2023-01-31T20:05:02.531865Z"
        },
        "colab": {
          "base_uri": "https://localhost:8080/",
          "height": 424
        },
        "id": "3STtBugN3fp1",
        "outputId": "46dd7874-4420-4190-8664-16ffc2773bf4"
      },
      "outputs": [
        {
          "output_type": "execute_result",
          "data": {
            "text/plain": [
              "        CRIM    NOX     RM   AGE  PTRATIO  LSTAT  PRICE\n",
              "0    0.00632  0.538  6.575  65.2     15.3   4.98   24.0\n",
              "1    0.02731  0.469  6.421  78.9     17.8   9.14   21.6\n",
              "2    0.02729  0.469  7.185  61.1     17.8   4.03   34.7\n",
              "3    0.03237  0.458  6.998  45.8     18.7   2.94   33.4\n",
              "4    0.06905  0.458  7.147  54.2     18.7   5.33   36.2\n",
              "..       ...    ...    ...   ...      ...    ...    ...\n",
              "501  0.06263  0.573  6.593  69.1     21.0   9.67   22.4\n",
              "502  0.04527  0.573  6.120  76.7     21.0   9.08   20.6\n",
              "503  0.06076  0.573  6.976  91.0     21.0   5.64   23.9\n",
              "504  0.10959  0.573  6.794  89.3     21.0   6.48   22.0\n",
              "505  0.04741  0.573  6.030  80.8     21.0   7.88   11.9\n",
              "\n",
              "[506 rows x 7 columns]"
            ],
            "text/html": [
              "\n",
              "  <div id=\"df-7102e009-82aa-49f8-809e-a58b40059689\">\n",
              "    <div class=\"colab-df-container\">\n",
              "      <div>\n",
              "<style scoped>\n",
              "    .dataframe tbody tr th:only-of-type {\n",
              "        vertical-align: middle;\n",
              "    }\n",
              "\n",
              "    .dataframe tbody tr th {\n",
              "        vertical-align: top;\n",
              "    }\n",
              "\n",
              "    .dataframe thead th {\n",
              "        text-align: right;\n",
              "    }\n",
              "</style>\n",
              "<table border=\"1\" class=\"dataframe\">\n",
              "  <thead>\n",
              "    <tr style=\"text-align: right;\">\n",
              "      <th></th>\n",
              "      <th>CRIM</th>\n",
              "      <th>NOX</th>\n",
              "      <th>RM</th>\n",
              "      <th>AGE</th>\n",
              "      <th>PTRATIO</th>\n",
              "      <th>LSTAT</th>\n",
              "      <th>PRICE</th>\n",
              "    </tr>\n",
              "  </thead>\n",
              "  <tbody>\n",
              "    <tr>\n",
              "      <th>0</th>\n",
              "      <td>0.00632</td>\n",
              "      <td>0.538</td>\n",
              "      <td>6.575</td>\n",
              "      <td>65.2</td>\n",
              "      <td>15.3</td>\n",
              "      <td>4.98</td>\n",
              "      <td>24.0</td>\n",
              "    </tr>\n",
              "    <tr>\n",
              "      <th>1</th>\n",
              "      <td>0.02731</td>\n",
              "      <td>0.469</td>\n",
              "      <td>6.421</td>\n",
              "      <td>78.9</td>\n",
              "      <td>17.8</td>\n",
              "      <td>9.14</td>\n",
              "      <td>21.6</td>\n",
              "    </tr>\n",
              "    <tr>\n",
              "      <th>2</th>\n",
              "      <td>0.02729</td>\n",
              "      <td>0.469</td>\n",
              "      <td>7.185</td>\n",
              "      <td>61.1</td>\n",
              "      <td>17.8</td>\n",
              "      <td>4.03</td>\n",
              "      <td>34.7</td>\n",
              "    </tr>\n",
              "    <tr>\n",
              "      <th>3</th>\n",
              "      <td>0.03237</td>\n",
              "      <td>0.458</td>\n",
              "      <td>6.998</td>\n",
              "      <td>45.8</td>\n",
              "      <td>18.7</td>\n",
              "      <td>2.94</td>\n",
              "      <td>33.4</td>\n",
              "    </tr>\n",
              "    <tr>\n",
              "      <th>4</th>\n",
              "      <td>0.06905</td>\n",
              "      <td>0.458</td>\n",
              "      <td>7.147</td>\n",
              "      <td>54.2</td>\n",
              "      <td>18.7</td>\n",
              "      <td>5.33</td>\n",
              "      <td>36.2</td>\n",
              "    </tr>\n",
              "    <tr>\n",
              "      <th>...</th>\n",
              "      <td>...</td>\n",
              "      <td>...</td>\n",
              "      <td>...</td>\n",
              "      <td>...</td>\n",
              "      <td>...</td>\n",
              "      <td>...</td>\n",
              "      <td>...</td>\n",
              "    </tr>\n",
              "    <tr>\n",
              "      <th>501</th>\n",
              "      <td>0.06263</td>\n",
              "      <td>0.573</td>\n",
              "      <td>6.593</td>\n",
              "      <td>69.1</td>\n",
              "      <td>21.0</td>\n",
              "      <td>9.67</td>\n",
              "      <td>22.4</td>\n",
              "    </tr>\n",
              "    <tr>\n",
              "      <th>502</th>\n",
              "      <td>0.04527</td>\n",
              "      <td>0.573</td>\n",
              "      <td>6.120</td>\n",
              "      <td>76.7</td>\n",
              "      <td>21.0</td>\n",
              "      <td>9.08</td>\n",
              "      <td>20.6</td>\n",
              "    </tr>\n",
              "    <tr>\n",
              "      <th>503</th>\n",
              "      <td>0.06076</td>\n",
              "      <td>0.573</td>\n",
              "      <td>6.976</td>\n",
              "      <td>91.0</td>\n",
              "      <td>21.0</td>\n",
              "      <td>5.64</td>\n",
              "      <td>23.9</td>\n",
              "    </tr>\n",
              "    <tr>\n",
              "      <th>504</th>\n",
              "      <td>0.10959</td>\n",
              "      <td>0.573</td>\n",
              "      <td>6.794</td>\n",
              "      <td>89.3</td>\n",
              "      <td>21.0</td>\n",
              "      <td>6.48</td>\n",
              "      <td>22.0</td>\n",
              "    </tr>\n",
              "    <tr>\n",
              "      <th>505</th>\n",
              "      <td>0.04741</td>\n",
              "      <td>0.573</td>\n",
              "      <td>6.030</td>\n",
              "      <td>80.8</td>\n",
              "      <td>21.0</td>\n",
              "      <td>7.88</td>\n",
              "      <td>11.9</td>\n",
              "    </tr>\n",
              "  </tbody>\n",
              "</table>\n",
              "<p>506 rows × 7 columns</p>\n",
              "</div>\n",
              "      <button class=\"colab-df-convert\" onclick=\"convertToInteractive('df-7102e009-82aa-49f8-809e-a58b40059689')\"\n",
              "              title=\"Convert this dataframe to an interactive table.\"\n",
              "              style=\"display:none;\">\n",
              "        \n",
              "  <svg xmlns=\"http://www.w3.org/2000/svg\" height=\"24px\"viewBox=\"0 0 24 24\"\n",
              "       width=\"24px\">\n",
              "    <path d=\"M0 0h24v24H0V0z\" fill=\"none\"/>\n",
              "    <path d=\"M18.56 5.44l.94 2.06.94-2.06 2.06-.94-2.06-.94-.94-2.06-.94 2.06-2.06.94zm-11 1L8.5 8.5l.94-2.06 2.06-.94-2.06-.94L8.5 2.5l-.94 2.06-2.06.94zm10 10l.94 2.06.94-2.06 2.06-.94-2.06-.94-.94-2.06-.94 2.06-2.06.94z\"/><path d=\"M17.41 7.96l-1.37-1.37c-.4-.4-.92-.59-1.43-.59-.52 0-1.04.2-1.43.59L10.3 9.45l-7.72 7.72c-.78.78-.78 2.05 0 2.83L4 21.41c.39.39.9.59 1.41.59.51 0 1.02-.2 1.41-.59l7.78-7.78 2.81-2.81c.8-.78.8-2.07 0-2.86zM5.41 20L4 18.59l7.72-7.72 1.47 1.35L5.41 20z\"/>\n",
              "  </svg>\n",
              "      </button>\n",
              "      \n",
              "  <style>\n",
              "    .colab-df-container {\n",
              "      display:flex;\n",
              "      flex-wrap:wrap;\n",
              "      gap: 12px;\n",
              "    }\n",
              "\n",
              "    .colab-df-convert {\n",
              "      background-color: #E8F0FE;\n",
              "      border: none;\n",
              "      border-radius: 50%;\n",
              "      cursor: pointer;\n",
              "      display: none;\n",
              "      fill: #1967D2;\n",
              "      height: 32px;\n",
              "      padding: 0 0 0 0;\n",
              "      width: 32px;\n",
              "    }\n",
              "\n",
              "    .colab-df-convert:hover {\n",
              "      background-color: #E2EBFA;\n",
              "      box-shadow: 0px 1px 2px rgba(60, 64, 67, 0.3), 0px 1px 3px 1px rgba(60, 64, 67, 0.15);\n",
              "      fill: #174EA6;\n",
              "    }\n",
              "\n",
              "    [theme=dark] .colab-df-convert {\n",
              "      background-color: #3B4455;\n",
              "      fill: #D2E3FC;\n",
              "    }\n",
              "\n",
              "    [theme=dark] .colab-df-convert:hover {\n",
              "      background-color: #434B5C;\n",
              "      box-shadow: 0px 1px 3px 1px rgba(0, 0, 0, 0.15);\n",
              "      filter: drop-shadow(0px 1px 2px rgba(0, 0, 0, 0.3));\n",
              "      fill: #FFFFFF;\n",
              "    }\n",
              "  </style>\n",
              "\n",
              "      <script>\n",
              "        const buttonEl =\n",
              "          document.querySelector('#df-7102e009-82aa-49f8-809e-a58b40059689 button.colab-df-convert');\n",
              "        buttonEl.style.display =\n",
              "          google.colab.kernel.accessAllowed ? 'block' : 'none';\n",
              "\n",
              "        async function convertToInteractive(key) {\n",
              "          const element = document.querySelector('#df-7102e009-82aa-49f8-809e-a58b40059689');\n",
              "          const dataTable =\n",
              "            await google.colab.kernel.invokeFunction('convertToInteractive',\n",
              "                                                     [key], {});\n",
              "          if (!dataTable) return;\n",
              "\n",
              "          const docLinkHtml = 'Like what you see? Visit the ' +\n",
              "            '<a target=\"_blank\" href=https://colab.research.google.com/notebooks/data_table.ipynb>data table notebook</a>'\n",
              "            + ' to learn more about interactive tables.';\n",
              "          element.innerHTML = '';\n",
              "          dataTable['output_type'] = 'display_data';\n",
              "          await google.colab.output.renderOutput(dataTable, element);\n",
              "          const docLink = document.createElement('div');\n",
              "          docLink.innerHTML = docLinkHtml;\n",
              "          element.appendChild(docLink);\n",
              "        }\n",
              "      </script>\n",
              "    </div>\n",
              "  </div>\n",
              "  "
            ]
          },
          "metadata": {},
          "execution_count": 4
        }
      ],
      "source": [
        "regression_df"
      ]
    },
    {
      "cell_type": "code",
      "execution_count": 5,
      "metadata": {
        "ExecuteTime": {
          "end_time": "2023-01-31T20:05:02.576811Z",
          "start_time": "2023-01-31T20:05:02.561813Z"
        },
        "colab": {
          "base_uri": "https://localhost:8080/"
        },
        "id": "uvcvdJUZ6YKX",
        "outputId": "8c48dee5-fedf-456d-89f9-5bee9e9004fb"
      },
      "outputs": [
        {
          "output_type": "execute_result",
          "data": {
            "text/plain": [
              "False"
            ]
          },
          "metadata": {},
          "execution_count": 5
        }
      ],
      "source": [
        "regression_df.duplicated().any()"
      ]
    },
    {
      "cell_type": "code",
      "execution_count": 6,
      "metadata": {
        "ExecuteTime": {
          "end_time": "2023-01-31T20:05:02.606926Z",
          "start_time": "2023-01-31T20:05:02.577843Z"
        },
        "colab": {
          "base_uri": "https://localhost:8080/",
          "height": 300
        },
        "id": "IrxmHTaU6s3N",
        "outputId": "8ae54049-3207-4d40-fcef-72571b111735"
      },
      "outputs": [
        {
          "output_type": "execute_result",
          "data": {
            "text/plain": [
              "             CRIM         NOX          RM         AGE     PTRATIO       LSTAT  \\\n",
              "count  506.000000  506.000000  506.000000  506.000000  506.000000  506.000000   \n",
              "mean     3.613524    0.554695    6.284634   68.574901   18.455534   12.653063   \n",
              "std      8.601545    0.115878    0.702617   28.148861    2.164946    7.141062   \n",
              "min      0.006320    0.385000    3.561000    2.900000   12.600000    1.730000   \n",
              "25%      0.082045    0.449000    5.885500   45.025000   17.400000    6.950000   \n",
              "50%      0.256510    0.538000    6.208500   77.500000   19.050000   11.360000   \n",
              "75%      3.677083    0.624000    6.623500   94.075000   20.200000   16.955000   \n",
              "max     88.976200    0.871000    8.780000  100.000000   22.000000   37.970000   \n",
              "\n",
              "            PRICE  \n",
              "count  506.000000  \n",
              "mean    22.532806  \n",
              "std      9.197104  \n",
              "min      5.000000  \n",
              "25%     17.025000  \n",
              "50%     21.200000  \n",
              "75%     25.000000  \n",
              "max     50.000000  "
            ],
            "text/html": [
              "\n",
              "  <div id=\"df-7b2eff79-61fb-4e25-8319-791ae63bcf54\">\n",
              "    <div class=\"colab-df-container\">\n",
              "      <div>\n",
              "<style scoped>\n",
              "    .dataframe tbody tr th:only-of-type {\n",
              "        vertical-align: middle;\n",
              "    }\n",
              "\n",
              "    .dataframe tbody tr th {\n",
              "        vertical-align: top;\n",
              "    }\n",
              "\n",
              "    .dataframe thead th {\n",
              "        text-align: right;\n",
              "    }\n",
              "</style>\n",
              "<table border=\"1\" class=\"dataframe\">\n",
              "  <thead>\n",
              "    <tr style=\"text-align: right;\">\n",
              "      <th></th>\n",
              "      <th>CRIM</th>\n",
              "      <th>NOX</th>\n",
              "      <th>RM</th>\n",
              "      <th>AGE</th>\n",
              "      <th>PTRATIO</th>\n",
              "      <th>LSTAT</th>\n",
              "      <th>PRICE</th>\n",
              "    </tr>\n",
              "  </thead>\n",
              "  <tbody>\n",
              "    <tr>\n",
              "      <th>count</th>\n",
              "      <td>506.000000</td>\n",
              "      <td>506.000000</td>\n",
              "      <td>506.000000</td>\n",
              "      <td>506.000000</td>\n",
              "      <td>506.000000</td>\n",
              "      <td>506.000000</td>\n",
              "      <td>506.000000</td>\n",
              "    </tr>\n",
              "    <tr>\n",
              "      <th>mean</th>\n",
              "      <td>3.613524</td>\n",
              "      <td>0.554695</td>\n",
              "      <td>6.284634</td>\n",
              "      <td>68.574901</td>\n",
              "      <td>18.455534</td>\n",
              "      <td>12.653063</td>\n",
              "      <td>22.532806</td>\n",
              "    </tr>\n",
              "    <tr>\n",
              "      <th>std</th>\n",
              "      <td>8.601545</td>\n",
              "      <td>0.115878</td>\n",
              "      <td>0.702617</td>\n",
              "      <td>28.148861</td>\n",
              "      <td>2.164946</td>\n",
              "      <td>7.141062</td>\n",
              "      <td>9.197104</td>\n",
              "    </tr>\n",
              "    <tr>\n",
              "      <th>min</th>\n",
              "      <td>0.006320</td>\n",
              "      <td>0.385000</td>\n",
              "      <td>3.561000</td>\n",
              "      <td>2.900000</td>\n",
              "      <td>12.600000</td>\n",
              "      <td>1.730000</td>\n",
              "      <td>5.000000</td>\n",
              "    </tr>\n",
              "    <tr>\n",
              "      <th>25%</th>\n",
              "      <td>0.082045</td>\n",
              "      <td>0.449000</td>\n",
              "      <td>5.885500</td>\n",
              "      <td>45.025000</td>\n",
              "      <td>17.400000</td>\n",
              "      <td>6.950000</td>\n",
              "      <td>17.025000</td>\n",
              "    </tr>\n",
              "    <tr>\n",
              "      <th>50%</th>\n",
              "      <td>0.256510</td>\n",
              "      <td>0.538000</td>\n",
              "      <td>6.208500</td>\n",
              "      <td>77.500000</td>\n",
              "      <td>19.050000</td>\n",
              "      <td>11.360000</td>\n",
              "      <td>21.200000</td>\n",
              "    </tr>\n",
              "    <tr>\n",
              "      <th>75%</th>\n",
              "      <td>3.677083</td>\n",
              "      <td>0.624000</td>\n",
              "      <td>6.623500</td>\n",
              "      <td>94.075000</td>\n",
              "      <td>20.200000</td>\n",
              "      <td>16.955000</td>\n",
              "      <td>25.000000</td>\n",
              "    </tr>\n",
              "    <tr>\n",
              "      <th>max</th>\n",
              "      <td>88.976200</td>\n",
              "      <td>0.871000</td>\n",
              "      <td>8.780000</td>\n",
              "      <td>100.000000</td>\n",
              "      <td>22.000000</td>\n",
              "      <td>37.970000</td>\n",
              "      <td>50.000000</td>\n",
              "    </tr>\n",
              "  </tbody>\n",
              "</table>\n",
              "</div>\n",
              "      <button class=\"colab-df-convert\" onclick=\"convertToInteractive('df-7b2eff79-61fb-4e25-8319-791ae63bcf54')\"\n",
              "              title=\"Convert this dataframe to an interactive table.\"\n",
              "              style=\"display:none;\">\n",
              "        \n",
              "  <svg xmlns=\"http://www.w3.org/2000/svg\" height=\"24px\"viewBox=\"0 0 24 24\"\n",
              "       width=\"24px\">\n",
              "    <path d=\"M0 0h24v24H0V0z\" fill=\"none\"/>\n",
              "    <path d=\"M18.56 5.44l.94 2.06.94-2.06 2.06-.94-2.06-.94-.94-2.06-.94 2.06-2.06.94zm-11 1L8.5 8.5l.94-2.06 2.06-.94-2.06-.94L8.5 2.5l-.94 2.06-2.06.94zm10 10l.94 2.06.94-2.06 2.06-.94-2.06-.94-.94-2.06-.94 2.06-2.06.94z\"/><path d=\"M17.41 7.96l-1.37-1.37c-.4-.4-.92-.59-1.43-.59-.52 0-1.04.2-1.43.59L10.3 9.45l-7.72 7.72c-.78.78-.78 2.05 0 2.83L4 21.41c.39.39.9.59 1.41.59.51 0 1.02-.2 1.41-.59l7.78-7.78 2.81-2.81c.8-.78.8-2.07 0-2.86zM5.41 20L4 18.59l7.72-7.72 1.47 1.35L5.41 20z\"/>\n",
              "  </svg>\n",
              "      </button>\n",
              "      \n",
              "  <style>\n",
              "    .colab-df-container {\n",
              "      display:flex;\n",
              "      flex-wrap:wrap;\n",
              "      gap: 12px;\n",
              "    }\n",
              "\n",
              "    .colab-df-convert {\n",
              "      background-color: #E8F0FE;\n",
              "      border: none;\n",
              "      border-radius: 50%;\n",
              "      cursor: pointer;\n",
              "      display: none;\n",
              "      fill: #1967D2;\n",
              "      height: 32px;\n",
              "      padding: 0 0 0 0;\n",
              "      width: 32px;\n",
              "    }\n",
              "\n",
              "    .colab-df-convert:hover {\n",
              "      background-color: #E2EBFA;\n",
              "      box-shadow: 0px 1px 2px rgba(60, 64, 67, 0.3), 0px 1px 3px 1px rgba(60, 64, 67, 0.15);\n",
              "      fill: #174EA6;\n",
              "    }\n",
              "\n",
              "    [theme=dark] .colab-df-convert {\n",
              "      background-color: #3B4455;\n",
              "      fill: #D2E3FC;\n",
              "    }\n",
              "\n",
              "    [theme=dark] .colab-df-convert:hover {\n",
              "      background-color: #434B5C;\n",
              "      box-shadow: 0px 1px 3px 1px rgba(0, 0, 0, 0.15);\n",
              "      filter: drop-shadow(0px 1px 2px rgba(0, 0, 0, 0.3));\n",
              "      fill: #FFFFFF;\n",
              "    }\n",
              "  </style>\n",
              "\n",
              "      <script>\n",
              "        const buttonEl =\n",
              "          document.querySelector('#df-7b2eff79-61fb-4e25-8319-791ae63bcf54 button.colab-df-convert');\n",
              "        buttonEl.style.display =\n",
              "          google.colab.kernel.accessAllowed ? 'block' : 'none';\n",
              "\n",
              "        async function convertToInteractive(key) {\n",
              "          const element = document.querySelector('#df-7b2eff79-61fb-4e25-8319-791ae63bcf54');\n",
              "          const dataTable =\n",
              "            await google.colab.kernel.invokeFunction('convertToInteractive',\n",
              "                                                     [key], {});\n",
              "          if (!dataTable) return;\n",
              "\n",
              "          const docLinkHtml = 'Like what you see? Visit the ' +\n",
              "            '<a target=\"_blank\" href=https://colab.research.google.com/notebooks/data_table.ipynb>data table notebook</a>'\n",
              "            + ' to learn more about interactive tables.';\n",
              "          element.innerHTML = '';\n",
              "          dataTable['output_type'] = 'display_data';\n",
              "          await google.colab.output.renderOutput(dataTable, element);\n",
              "          const docLink = document.createElement('div');\n",
              "          docLink.innerHTML = docLinkHtml;\n",
              "          element.appendChild(docLink);\n",
              "        }\n",
              "      </script>\n",
              "    </div>\n",
              "  </div>\n",
              "  "
            ]
          },
          "metadata": {},
          "execution_count": 6
        }
      ],
      "source": [
        "regression_df.describe()"
      ]
    },
    {
      "cell_type": "code",
      "execution_count": 7,
      "metadata": {
        "ExecuteTime": {
          "end_time": "2023-01-31T20:05:02.621973Z",
          "start_time": "2023-01-31T20:05:02.607955Z"
        },
        "id": "rU0zM_dk6xDd"
      },
      "outputs": [],
      "source": [
        "# Define X and Y and complete the train test split\n",
        "X = regression_df.drop(columns = 'PRICE')\n",
        "y = regression_df['PRICE']\n",
        "\n",
        "X_train, X_test, y_train, y_test = train_test_split(X,y, random_state = 42)"
      ]
    },
    {
      "cell_type": "markdown",
      "metadata": {
        "id": "MqS765vN8Xti"
      },
      "source": [
        "## Scaling\n",
        "\n",
        "Always scale your data for deep learning.  Otherwise you get a problem call 'Exploding Weights'.  Some weights will be updated much faster than others because the inputs are at larger scales.  This tends to hurt learning as data on smaller scales does not update as fast and doesn't get to contribute as much to the decision making process.  By scaling we put all features on the same footing."
      ]
    },
    {
      "cell_type": "code",
      "execution_count": 8,
      "metadata": {
        "ExecuteTime": {
          "end_time": "2023-01-31T20:05:02.637937Z",
          "start_time": "2023-01-31T20:05:02.622991Z"
        },
        "id": "bvCCtAhQ7gGe"
      },
      "outputs": [],
      "source": [
        "# Scale the data\n",
        "scaler = MinMaxScaler()\n",
        "\n",
        "scaler.fit(X_train)\n",
        "X_train = scaler.transform(X_train)\n",
        "X_test = scaler.transform(X_test)"
      ]
    },
    {
      "cell_type": "markdown",
      "metadata": {
        "id": "BzX4RBcu8TFx"
      },
      "source": [
        "## First Simple Model\n",
        "\n",
        "We always want to start simple, as deep learning models can get very complex fast and more complex models take more time to train and are more prone to overfitting.  A well performing simple model is better than a well performing complex model.\n",
        "\n",
        "## Input layer\n",
        "The first layer we will define is not technically the input layer.  We will define the first hidden layer with a special argument that tells Keras how to create a input layer:\n",
        "\n",
        "`input_dim=`\n",
        "\n",
        "Input layers can also be defined manually using tensorflow.keras.layers.InputLayer\n",
        "\n",
        "## Activation function\n",
        "\n",
        "For the single hidden layer we will try just 3 nodes and use a ReLU activation.  ReLUs tend to perform well for hidden nodes.\n",
        "\n",
        "## Output Layer\n",
        "\n",
        "For out output layer (last layer) we just use one node because we only want the output of the model to be one number.  We will use a linear activation function.  This will simply output the value from the weights and bias in the node with no change.  The output will be a continuous number, a float.  This will make our model a regression model.\n",
        "\n",
        "\n"
      ]
    },
    {
      "cell_type": "code",
      "execution_count": 9,
      "metadata": {
        "ExecuteTime": {
          "end_time": "2023-01-31T20:05:02.653688Z",
          "start_time": "2023-01-31T20:05:02.638939Z"
        },
        "colab": {
          "base_uri": "https://localhost:8080/"
        },
        "id": "DfYhlMbBwZcQ",
        "outputId": "90e9ce42-d5ab-47f2-e4b0-24da60f56ff1"
      },
      "outputs": [
        {
          "output_type": "execute_result",
          "data": {
            "text/plain": [
              "6"
            ]
          },
          "metadata": {},
          "execution_count": 9
        }
      ],
      "source": [
        "# Check the shape of input\n",
        "\n",
        "X_train.shape[1]"
      ]
    },
    {
      "cell_type": "code",
      "execution_count": 10,
      "metadata": {
        "ExecuteTime": {
          "end_time": "2023-01-31T20:05:02.715488Z",
          "start_time": "2023-01-31T20:05:02.656646Z"
        },
        "colab": {
          "base_uri": "https://localhost:8080/"
        },
        "id": "AnjwY1dz7vcG",
        "outputId": "50c95357-7227-49bd-9e43-d3be2ce12ac5"
      },
      "outputs": [
        {
          "output_type": "stream",
          "name": "stdout",
          "text": [
            "Model: \"sequential\"\n",
            "_________________________________________________________________\n",
            " Layer (type)                Output Shape              Param #   \n",
            "=================================================================\n",
            " h1 (Dense)                  (None, 10)                70        \n",
            "                                                                 \n",
            " h2 (Dense)                  (None, 10)                110       \n",
            "                                                                 \n",
            " output (Dense)              (None, 1)                 11        \n",
            "                                                                 \n",
            "=================================================================\n",
            "Total params: 191\n",
            "Trainable params: 191\n",
            "Non-trainable params: 0\n",
            "_________________________________________________________________\n"
          ]
        }
      ],
      "source": [
        "# Reset Random seed for consistency\n",
        "keras.backend.clear_session()\n",
        "np.random.seed(42)\n",
        "tf.random.set_seed(42)\n",
        "\n",
        "# Instantiate your sequential model\n",
        "\n",
        "reg_model = Sequential()\n",
        "# use all features as input using input_dim\n",
        "input_dim = X_train.shape[1]\n",
        "\n",
        "# Add first hidden layer\n",
        "reg_model.add(Dense(10, activation='relu', input_dim=input_dim, name='h1'))\n",
        "reg_model.add(Dense(10, activation='relu', name='h2'))\n",
        "# Add output layer with 1 node\n",
        "reg_model.add(Dense(1, activation='linear', name ='output'))\n",
        "\n",
        "\n",
        "# Check summary of network \n",
        "reg_model.summary()\n",
        "\n"
      ]
    },
    {
      "cell_type": "markdown",
      "metadata": {
        "id": "9wAFuCDGOBzo"
      },
      "source": [
        "## Compiling\n",
        "\n",
        "Compiling the model puts all the pieces together to make it ready to train.  We need to specify:\n",
        "\n",
        "* **Optimizer:** An Adam optimizer is a favorite and often performs well, it's a good place to start.\n",
        "  - Other optimizers : Gradient Descent,Stochastic Gradient Descent,Adagrad,RMSProp\n",
        "* **Loss Function:** 'mse' or mean squared error.  This is the number our model will try to reduce in each epoch.  Since this is a regression model we want our model to minimize the mean squared error.\n",
        "* **Metrics:** 'mae' or mean absolute error.  We can provide a list of any appropriate metrics we want the model to keep track at each epoch.\n",
        "\n",
        "\n"
      ]
    },
    {
      "cell_type": "code",
      "execution_count": null,
      "metadata": {
        "ExecuteTime": {
          "end_time": "2023-01-31T20:05:02.730884Z",
          "start_time": "2023-01-31T20:05:02.716485Z"
        },
        "id": "iLIXOZSMLnt5"
      },
      "outputs": [],
      "source": [
        "from tensorflow.keras.metrics import RootMeanSquaredError"
      ]
    },
    {
      "cell_type": "code",
      "execution_count": null,
      "metadata": {
        "ExecuteTime": {
          "end_time": "2023-01-31T20:05:02.746529Z",
          "start_time": "2023-01-31T20:05:02.731882Z"
        },
        "id": "AwAGvWCZN1WC"
      },
      "outputs": [],
      "source": [
        "# Compile your model.\n",
        "rmse = RootMeanSquaredError(name='rmse')\n",
        "\n",
        "reg_model.compile(optimizer= 'adam', loss = 'mse', metrics= ['mae', rmse])"
      ]
    },
    {
      "cell_type": "markdown",
      "metadata": {
        "id": "sBvS_wkr_hEh"
      },
      "source": [
        "# Training\n",
        "\n",
        "Let's try training our model for 100 few epochs.  Sometimes that is enough, and it will give us an idea whether our model is learning anything."
      ]
    },
    {
      "cell_type": "code",
      "execution_count": null,
      "metadata": {
        "ExecuteTime": {
          "end_time": "2023-01-31T20:05:07.987578Z",
          "start_time": "2023-01-31T20:05:02.747524Z"
        },
        "colab": {
          "base_uri": "https://localhost:8080/"
        },
        "id": "81VFx1n1-TS7",
        "outputId": "24e18a30-3f41-4ce4-ef1d-cb7775883238"
      },
      "outputs": [
        {
          "name": "stdout",
          "output_type": "stream",
          "text": [
            "Epoch 1/100\n",
            "12/12 [==============================] - 1s 22ms/step - loss: 637.9359 - mae: 23.4772 - rmse: 25.2574 - val_loss: 545.4328 - val_mae: 21.8478 - val_rmse: 23.3545\n",
            "Epoch 2/100\n",
            "12/12 [==============================] - 0s 4ms/step - loss: 627.7352 - mae: 23.2455 - rmse: 25.0546 - val_loss: 536.6983 - val_mae: 21.6346 - val_rmse: 23.1667\n",
            "Epoch 3/100\n",
            "12/12 [==============================] - 0s 4ms/step - loss: 619.5906 - mae: 23.0577 - rmse: 24.8916 - val_loss: 530.1472 - val_mae: 21.4729 - val_rmse: 23.0249\n",
            "Epoch 4/100\n",
            "12/12 [==============================] - 0s 3ms/step - loss: 613.4155 - mae: 22.9153 - rmse: 24.7672 - val_loss: 525.1700 - val_mae: 21.3489 - val_rmse: 22.9166\n",
            "Epoch 5/100\n",
            "12/12 [==============================] - 0s 4ms/step - loss: 608.6854 - mae: 22.8067 - rmse: 24.6716 - val_loss: 521.3907 - val_mae: 21.2550 - val_rmse: 22.8340\n",
            "Epoch 6/100\n",
            "12/12 [==============================] - 0s 4ms/step - loss: 604.8336 - mae: 22.7205 - rmse: 24.5934 - val_loss: 518.1628 - val_mae: 21.1754 - val_rmse: 22.7632\n",
            "Epoch 7/100\n",
            "12/12 [==============================] - 0s 3ms/step - loss: 601.2771 - mae: 22.6404 - rmse: 24.5210 - val_loss: 514.7419 - val_mae: 21.0910 - val_rmse: 22.6879\n",
            "Epoch 8/100\n",
            "12/12 [==============================] - 0s 4ms/step - loss: 597.3553 - mae: 22.5518 - rmse: 24.4409 - val_loss: 510.8044 - val_mae: 20.9937 - val_rmse: 22.6010\n",
            "Epoch 9/100\n",
            "12/12 [==============================] - 0s 4ms/step - loss: 592.8216 - mae: 22.4488 - rmse: 24.3479 - val_loss: 506.1350 - val_mae: 20.8781 - val_rmse: 22.4974\n",
            "Epoch 10/100\n",
            "12/12 [==============================] - 0s 4ms/step - loss: 587.4317 - mae: 22.3255 - rmse: 24.2370 - val_loss: 500.5601 - val_mae: 20.7391 - val_rmse: 22.3732\n",
            "Epoch 11/100\n",
            "12/12 [==============================] - 0s 4ms/step - loss: 580.9932 - mae: 22.1774 - rmse: 24.1038 - val_loss: 493.8637 - val_mae: 20.5709 - val_rmse: 22.2230\n",
            "Epoch 12/100\n",
            "12/12 [==============================] - 0s 4ms/step - loss: 573.3188 - mae: 21.9975 - rmse: 23.9441 - val_loss: 485.9012 - val_mae: 20.3687 - val_rmse: 22.0432\n",
            "Epoch 13/100\n",
            "12/12 [==============================] - 0s 4ms/step - loss: 564.3036 - mae: 21.7826 - rmse: 23.7551 - val_loss: 476.5297 - val_mae: 20.1275 - val_rmse: 21.8296\n",
            "Epoch 14/100\n",
            "12/12 [==============================] - 0s 4ms/step - loss: 553.5869 - mae: 21.5301 - rmse: 23.5284 - val_loss: 465.8123 - val_mae: 19.8475 - val_rmse: 21.5827\n",
            "Epoch 15/100\n",
            "12/12 [==============================] - 0s 4ms/step - loss: 541.4820 - mae: 21.2328 - rmse: 23.2698 - val_loss: 453.3792 - val_mae: 19.5167 - val_rmse: 21.2927\n",
            "Epoch 16/100\n",
            "12/12 [==============================] - 0s 4ms/step - loss: 527.4489 - mae: 20.8851 - rmse: 22.9663 - val_loss: 439.3888 - val_mae: 19.1367 - val_rmse: 20.9616\n",
            "Epoch 17/100\n",
            "12/12 [==============================] - 0s 5ms/step - loss: 511.8189 - mae: 20.4844 - rmse: 22.6234 - val_loss: 423.6417 - val_mae: 18.6981 - val_rmse: 20.5826\n",
            "Epoch 18/100\n",
            "12/12 [==============================] - 0s 4ms/step - loss: 494.0406 - mae: 20.0307 - rmse: 22.2270 - val_loss: 406.4802 - val_mae: 18.2064 - val_rmse: 20.1614\n",
            "Epoch 19/100\n",
            "12/12 [==============================] - 0s 4ms/step - loss: 474.7808 - mae: 19.5136 - rmse: 21.7895 - val_loss: 387.5897 - val_mae: 17.6472 - val_rmse: 19.6873\n",
            "Epoch 20/100\n",
            "12/12 [==============================] - 0s 4ms/step - loss: 453.9015 - mae: 18.9328 - rmse: 21.3050 - val_loss: 367.1140 - val_mae: 17.0243 - val_rmse: 19.1602\n",
            "Epoch 21/100\n",
            "12/12 [==============================] - 0s 4ms/step - loss: 430.9679 - mae: 18.2969 - rmse: 20.7598 - val_loss: 345.6321 - val_mae: 16.3484 - val_rmse: 18.5912\n",
            "Epoch 22/100\n",
            "12/12 [==============================] - 0s 4ms/step - loss: 406.9536 - mae: 17.5923 - rmse: 20.1731 - val_loss: 323.0091 - val_mae: 15.6050 - val_rmse: 17.9725\n",
            "Epoch 23/100\n",
            "12/12 [==============================] - 0s 4ms/step - loss: 381.5329 - mae: 16.8338 - rmse: 19.5329 - val_loss: 299.8240 - val_mae: 14.8236 - val_rmse: 17.3154\n",
            "Epoch 24/100\n",
            "12/12 [==============================] - 0s 4ms/step - loss: 355.6385 - mae: 16.0330 - rmse: 18.8584 - val_loss: 275.8640 - val_mae: 13.9925 - val_rmse: 16.6092\n",
            "Epoch 25/100\n",
            "12/12 [==============================] - 0s 4ms/step - loss: 328.0506 - mae: 15.1910 - rmse: 18.1122 - val_loss: 251.8018 - val_mae: 13.1271 - val_rmse: 15.8683\n",
            "Epoch 26/100\n",
            "12/12 [==============================] - 0s 4ms/step - loss: 300.3819 - mae: 14.2951 - rmse: 17.3315 - val_loss: 227.7231 - val_mae: 12.2709 - val_rmse: 15.0905\n",
            "Epoch 27/100\n",
            "12/12 [==============================] - 0s 4ms/step - loss: 273.3638 - mae: 13.3480 - rmse: 16.5337 - val_loss: 204.9110 - val_mae: 11.4118 - val_rmse: 14.3147\n",
            "Epoch 28/100\n",
            "12/12 [==============================] - 0s 4ms/step - loss: 247.3674 - mae: 12.4815 - rmse: 15.7279 - val_loss: 184.6041 - val_mae: 10.6773 - val_rmse: 13.5869\n",
            "Epoch 29/100\n",
            "12/12 [==============================] - 0s 4ms/step - loss: 224.4918 - mae: 11.7546 - rmse: 14.9831 - val_loss: 166.8063 - val_mae: 10.0831 - val_rmse: 12.9154\n",
            "Epoch 30/100\n",
            "12/12 [==============================] - 0s 4ms/step - loss: 204.8253 - mae: 11.1453 - rmse: 14.3117 - val_loss: 151.9419 - val_mae: 9.5981 - val_rmse: 12.3265\n",
            "Epoch 31/100\n",
            "12/12 [==============================] - 0s 4ms/step - loss: 187.1627 - mae: 10.5798 - rmse: 13.6807 - val_loss: 140.8336 - val_mae: 9.2239 - val_rmse: 11.8673\n",
            "Epoch 32/100\n",
            "12/12 [==============================] - 0s 4ms/step - loss: 173.8120 - mae: 10.2223 - rmse: 13.1838 - val_loss: 132.3434 - val_mae: 8.8929 - val_rmse: 11.5041\n",
            "Epoch 33/100\n",
            "12/12 [==============================] - 0s 4ms/step - loss: 163.1898 - mae: 9.8745 - rmse: 12.7746 - val_loss: 126.2974 - val_mae: 8.6338 - val_rmse: 11.2382\n",
            "Epoch 34/100\n",
            "12/12 [==============================] - 0s 4ms/step - loss: 154.9205 - mae: 9.6401 - rmse: 12.4467 - val_loss: 122.2241 - val_mae: 8.4481 - val_rmse: 11.0555\n",
            "Epoch 35/100\n",
            "12/12 [==============================] - 0s 4ms/step - loss: 148.5890 - mae: 9.4599 - rmse: 12.1897 - val_loss: 119.6552 - val_mae: 8.3384 - val_rmse: 10.9387\n",
            "Epoch 36/100\n",
            "12/12 [==============================] - 0s 4ms/step - loss: 144.6122 - mae: 9.3445 - rmse: 12.0255 - val_loss: 117.7665 - val_mae: 8.2873 - val_rmse: 10.8520\n",
            "Epoch 37/100\n",
            "12/12 [==============================] - 0s 3ms/step - loss: 140.7953 - mae: 9.2261 - rmse: 11.8657 - val_loss: 116.4319 - val_mae: 8.2474 - val_rmse: 10.7904\n",
            "Epoch 38/100\n",
            "12/12 [==============================] - 0s 3ms/step - loss: 138.4121 - mae: 9.1595 - rmse: 11.7649 - val_loss: 115.4402 - val_mae: 8.2128 - val_rmse: 10.7443\n",
            "Epoch 39/100\n",
            "12/12 [==============================] - 0s 4ms/step - loss: 135.8686 - mae: 9.0981 - rmse: 11.6563 - val_loss: 114.2927 - val_mae: 8.1720 - val_rmse: 10.6908\n",
            "Epoch 40/100\n",
            "12/12 [==============================] - 0s 4ms/step - loss: 133.9888 - mae: 9.0474 - rmse: 11.5754 - val_loss: 113.3547 - val_mae: 8.1440 - val_rmse: 10.6468\n",
            "Epoch 41/100\n",
            "12/12 [==============================] - 0s 3ms/step - loss: 132.1472 - mae: 8.9891 - rmse: 11.4955 - val_loss: 112.2922 - val_mae: 8.1097 - val_rmse: 10.5968\n",
            "Epoch 42/100\n",
            "12/12 [==============================] - 0s 4ms/step - loss: 130.4308 - mae: 8.9328 - rmse: 11.4206 - val_loss: 111.1255 - val_mae: 8.0698 - val_rmse: 10.5416\n",
            "Epoch 43/100\n",
            "12/12 [==============================] - 0s 4ms/step - loss: 128.7662 - mae: 8.8799 - rmse: 11.3475 - val_loss: 109.8641 - val_mae: 8.0239 - val_rmse: 10.4816\n",
            "Epoch 44/100\n",
            "12/12 [==============================] - 0s 4ms/step - loss: 127.1158 - mae: 8.8161 - rmse: 11.2746 - val_loss: 108.4755 - val_mae: 7.9697 - val_rmse: 10.4152\n",
            "Epoch 45/100\n",
            "12/12 [==============================] - 0s 4ms/step - loss: 125.5112 - mae: 8.7609 - rmse: 11.2032 - val_loss: 107.3459 - val_mae: 7.9293 - val_rmse: 10.3608\n",
            "Epoch 46/100\n",
            "12/12 [==============================] - 0s 4ms/step - loss: 123.8186 - mae: 8.6980 - rmse: 11.1274 - val_loss: 105.8634 - val_mae: 7.8678 - val_rmse: 10.2890\n",
            "Epoch 47/100\n",
            "12/12 [==============================] - 0s 3ms/step - loss: 122.2397 - mae: 8.6331 - rmse: 11.0562 - val_loss: 104.4017 - val_mae: 7.8074 - val_rmse: 10.2177\n",
            "Epoch 48/100\n"
          ]
        },
        {
          "name": "stdout",
          "output_type": "stream",
          "text": [
            "12/12 [==============================] - 0s 3ms/step - loss: 120.5167 - mae: 8.5659 - rmse: 10.9780 - val_loss: 102.9629 - val_mae: 7.7481 - val_rmse: 10.1471\n",
            "Epoch 49/100\n",
            "12/12 [==============================] - 0s 3ms/step - loss: 118.8280 - mae: 8.5002 - rmse: 10.9008 - val_loss: 101.6538 - val_mae: 7.6974 - val_rmse: 10.0823\n",
            "Epoch 50/100\n",
            "12/12 [==============================] - 0s 4ms/step - loss: 117.0377 - mae: 8.4297 - rmse: 10.8184 - val_loss: 100.0234 - val_mae: 7.6296 - val_rmse: 10.0012\n",
            "Epoch 51/100\n",
            "12/12 [==============================] - 0s 4ms/step - loss: 115.0483 - mae: 8.3473 - rmse: 10.7261 - val_loss: 98.1493 - val_mae: 7.5469 - val_rmse: 9.9070\n",
            "Epoch 52/100\n",
            "12/12 [==============================] - 0s 3ms/step - loss: 112.9756 - mae: 8.2557 - rmse: 10.6290 - val_loss: 96.0446 - val_mae: 7.4509 - val_rmse: 9.8002\n",
            "Epoch 53/100\n",
            "12/12 [==============================] - 0s 4ms/step - loss: 110.5010 - mae: 8.1413 - rmse: 10.5119 - val_loss: 93.4824 - val_mae: 7.3249 - val_rmse: 9.6686\n",
            "Epoch 54/100\n",
            "12/12 [==============================] - 0s 4ms/step - loss: 108.3141 - mae: 8.0379 - rmse: 10.4074 - val_loss: 91.5949 - val_mae: 7.2410 - val_rmse: 9.5705\n",
            "Epoch 55/100\n",
            "12/12 [==============================] - 0s 3ms/step - loss: 105.9819 - mae: 7.9413 - rmse: 10.2948 - val_loss: 89.4618 - val_mae: 7.1392 - val_rmse: 9.4584\n",
            "Epoch 56/100\n",
            "12/12 [==============================] - 0s 3ms/step - loss: 103.7320 - mae: 7.8391 - rmse: 10.1849 - val_loss: 87.6429 - val_mae: 7.0548 - val_rmse: 9.3618\n",
            "Epoch 57/100\n",
            "12/12 [==============================] - 0s 4ms/step - loss: 101.3909 - mae: 7.7437 - rmse: 10.0693 - val_loss: 85.9010 - val_mae: 6.9763 - val_rmse: 9.2683\n",
            "Epoch 58/100\n",
            "12/12 [==============================] - 0s 3ms/step - loss: 99.0438 - mae: 7.6379 - rmse: 9.9521 - val_loss: 83.6111 - val_mae: 6.8604 - val_rmse: 9.1439\n",
            "Epoch 59/100\n",
            "12/12 [==============================] - 0s 4ms/step - loss: 96.7306 - mae: 7.5334 - rmse: 9.8352 - val_loss: 81.8301 - val_mae: 6.7802 - val_rmse: 9.0460\n",
            "Epoch 60/100\n",
            "12/12 [==============================] - 0s 4ms/step - loss: 94.2320 - mae: 7.4258 - rmse: 9.7073 - val_loss: 79.7966 - val_mae: 6.6794 - val_rmse: 8.9329\n",
            "Epoch 61/100\n",
            "12/12 [==============================] - 0s 3ms/step - loss: 91.8002 - mae: 7.3121 - rmse: 9.5812 - val_loss: 77.5284 - val_mae: 6.5597 - val_rmse: 8.8050\n",
            "Epoch 62/100\n",
            "12/12 [==============================] - 0s 4ms/step - loss: 89.2999 - mae: 7.1916 - rmse: 9.4499 - val_loss: 75.3137 - val_mae: 6.4413 - val_rmse: 8.6783\n",
            "Epoch 63/100\n",
            "12/12 [==============================] - 0s 3ms/step - loss: 86.7793 - mae: 7.0534 - rmse: 9.3155 - val_loss: 72.4651 - val_mae: 6.2659 - val_rmse: 8.5126\n",
            "Epoch 64/100\n",
            "12/12 [==============================] - 0s 4ms/step - loss: 84.1553 - mae: 6.9151 - rmse: 9.1736 - val_loss: 70.5834 - val_mae: 6.1692 - val_rmse: 8.4014\n",
            "Epoch 65/100\n",
            "12/12 [==============================] - 0s 4ms/step - loss: 81.4515 - mae: 6.7937 - rmse: 9.0250 - val_loss: 68.3627 - val_mae: 6.0500 - val_rmse: 8.2682\n",
            "Epoch 66/100\n",
            "12/12 [==============================] - 0s 3ms/step - loss: 78.8195 - mae: 6.6726 - rmse: 8.8780 - val_loss: 66.2816 - val_mae: 5.9389 - val_rmse: 8.1413\n",
            "Epoch 67/100\n",
            "12/12 [==============================] - 0s 4ms/step - loss: 76.1648 - mae: 6.5299 - rmse: 8.7272 - val_loss: 63.6420 - val_mae: 5.7839 - val_rmse: 7.9776\n",
            "Epoch 68/100\n",
            "12/12 [==============================] - 0s 3ms/step - loss: 73.4908 - mae: 6.3859 - rmse: 8.5727 - val_loss: 61.6356 - val_mae: 5.6722 - val_rmse: 7.8508\n",
            "Epoch 69/100\n",
            "12/12 [==============================] - 0s 3ms/step - loss: 71.0094 - mae: 6.2529 - rmse: 8.4267 - val_loss: 59.3563 - val_mae: 5.5394 - val_rmse: 7.7043\n",
            "Epoch 70/100\n",
            "12/12 [==============================] - 0s 4ms/step - loss: 68.4919 - mae: 6.1216 - rmse: 8.2760 - val_loss: 57.5487 - val_mae: 5.4480 - val_rmse: 7.5861\n",
            "Epoch 71/100\n",
            "12/12 [==============================] - 0s 3ms/step - loss: 65.9796 - mae: 5.9922 - rmse: 8.1228 - val_loss: 55.3901 - val_mae: 5.3203 - val_rmse: 7.4424\n",
            "Epoch 72/100\n",
            "12/12 [==============================] - 0s 4ms/step - loss: 63.4457 - mae: 5.8337 - rmse: 7.9653 - val_loss: 53.1781 - val_mae: 5.1711 - val_rmse: 7.2923\n",
            "Epoch 73/100\n",
            "12/12 [==============================] - 0s 3ms/step - loss: 61.1071 - mae: 5.7216 - rmse: 7.8171 - val_loss: 51.7150 - val_mae: 5.0985 - val_rmse: 7.1913\n",
            "Epoch 74/100\n",
            "12/12 [==============================] - 0s 4ms/step - loss: 58.7910 - mae: 5.5870 - rmse: 7.6675 - val_loss: 49.7617 - val_mae: 4.9678 - val_rmse: 7.0542\n",
            "Epoch 75/100\n",
            "12/12 [==============================] - 0s 4ms/step - loss: 56.7264 - mae: 5.4745 - rmse: 7.5317 - val_loss: 48.0241 - val_mae: 4.8555 - val_rmse: 6.9299\n",
            "Epoch 76/100\n",
            "12/12 [==============================] - 0s 3ms/step - loss: 54.5292 - mae: 5.3254 - rmse: 7.3844 - val_loss: 46.1778 - val_mae: 4.7177 - val_rmse: 6.7954\n",
            "Epoch 77/100\n",
            "12/12 [==============================] - 0s 4ms/step - loss: 52.3727 - mae: 5.2124 - rmse: 7.2369 - val_loss: 44.8626 - val_mae: 4.6413 - val_rmse: 6.6980\n",
            "Epoch 78/100\n",
            "12/12 [==============================] - 0s 3ms/step - loss: 50.6525 - mae: 5.1073 - rmse: 7.1171 - val_loss: 43.1976 - val_mae: 4.5166 - val_rmse: 6.5725\n",
            "Epoch 79/100\n",
            "12/12 [==============================] - 0s 4ms/step - loss: 48.8789 - mae: 5.0157 - rmse: 6.9913 - val_loss: 42.2952 - val_mae: 4.5058 - val_rmse: 6.5035\n",
            "Epoch 80/100\n",
            "12/12 [==============================] - 0s 4ms/step - loss: 47.0092 - mae: 4.9161 - rmse: 6.8563 - val_loss: 40.7871 - val_mae: 4.3797 - val_rmse: 6.3865\n",
            "Epoch 81/100\n",
            "12/12 [==============================] - 0s 4ms/step - loss: 45.4121 - mae: 4.8202 - rmse: 6.7388 - val_loss: 39.7411 - val_mae: 4.3211 - val_rmse: 6.3041\n",
            "Epoch 82/100\n",
            "12/12 [==============================] - 0s 4ms/step - loss: 43.9909 - mae: 4.7412 - rmse: 6.6326 - val_loss: 38.5840 - val_mae: 4.2289 - val_rmse: 6.2116\n",
            "Epoch 83/100\n",
            "12/12 [==============================] - 0s 3ms/step - loss: 42.5811 - mae: 4.6649 - rmse: 6.5254 - val_loss: 37.7852 - val_mae: 4.1864 - val_rmse: 6.1470\n",
            "Epoch 84/100\n",
            "12/12 [==============================] - 0s 4ms/step - loss: 41.4154 - mae: 4.6038 - rmse: 6.4355 - val_loss: 37.0560 - val_mae: 4.1651 - val_rmse: 6.0874\n",
            "Epoch 85/100\n",
            "12/12 [==============================] - 0s 3ms/step - loss: 40.1823 - mae: 4.5268 - rmse: 6.3390 - val_loss: 36.0252 - val_mae: 4.0669 - val_rmse: 6.0021\n",
            "Epoch 86/100\n",
            "12/12 [==============================] - 0s 4ms/step - loss: 39.2030 - mae: 4.4648 - rmse: 6.2612 - val_loss: 35.4776 - val_mae: 4.0699 - val_rmse: 5.9563\n",
            "Epoch 87/100\n",
            "12/12 [==============================] - 0s 3ms/step - loss: 38.1708 - mae: 4.4155 - rmse: 6.1783 - val_loss: 34.9015 - val_mae: 4.0376 - val_rmse: 5.9077\n",
            "Epoch 88/100\n",
            "12/12 [==============================] - 0s 3ms/step - loss: 37.3283 - mae: 4.3489 - rmse: 6.1097 - val_loss: 34.2120 - val_mae: 3.9679 - val_rmse: 5.8491\n",
            "Epoch 89/100\n",
            "12/12 [==============================] - 0s 4ms/step - loss: 36.5009 - mae: 4.3036 - rmse: 6.0416 - val_loss: 33.8163 - val_mae: 3.9544 - val_rmse: 5.8152\n",
            "Epoch 90/100\n",
            "12/12 [==============================] - 0s 3ms/step - loss: 35.7870 - mae: 4.2633 - rmse: 5.9822 - val_loss: 33.4646 - val_mae: 3.9494 - val_rmse: 5.7849\n",
            "Epoch 91/100\n",
            "12/12 [==============================] - 0s 4ms/step - loss: 35.2405 - mae: 4.2247 - rmse: 5.9364 - val_loss: 33.1139 - val_mae: 3.9279 - val_rmse: 5.7545\n",
            "Epoch 92/100\n",
            "12/12 [==============================] - 0s 3ms/step - loss: 34.5715 - mae: 4.2004 - rmse: 5.8798 - val_loss: 32.8114 - val_mae: 3.9173 - val_rmse: 5.7281\n",
            "Epoch 93/100\n",
            "12/12 [==============================] - 0s 4ms/step - loss: 34.0576 - mae: 4.1500 - rmse: 5.8359 - val_loss: 32.3236 - val_mae: 3.8460 - val_rmse: 5.6854\n",
            "Epoch 94/100\n",
            "12/12 [==============================] - 0s 4ms/step - loss: 33.6068 - mae: 4.1037 - rmse: 5.7971 - val_loss: 32.0696 - val_mae: 3.8367 - val_rmse: 5.6630\n",
            "Epoch 95/100\n",
            "12/12 [==============================] - 0s 4ms/step - loss: 33.1864 - mae: 4.0974 - rmse: 5.7608 - val_loss: 31.9891 - val_mae: 3.8787 - val_rmse: 5.6559\n",
            "Epoch 96/100\n",
            "12/12 [==============================] - 0s 4ms/step - loss: 32.8935 - mae: 4.0526 - rmse: 5.7353 - val_loss: 31.6176 - val_mae: 3.8079 - val_rmse: 5.6230\n"
          ]
        },
        {
          "name": "stdout",
          "output_type": "stream",
          "text": [
            "Epoch 97/100\n",
            "12/12 [==============================] - 0s 4ms/step - loss: 32.5093 - mae: 4.0443 - rmse: 5.7017 - val_loss: 31.6458 - val_mae: 3.8778 - val_rmse: 5.6255\n",
            "Epoch 98/100\n",
            "12/12 [==============================] - 0s 4ms/step - loss: 32.1349 - mae: 4.0166 - rmse: 5.6688 - val_loss: 31.3192 - val_mae: 3.8200 - val_rmse: 5.5964\n",
            "Epoch 99/100\n",
            "12/12 [==============================] - 0s 3ms/step - loss: 31.9491 - mae: 4.0019 - rmse: 5.6524 - val_loss: 31.2125 - val_mae: 3.8294 - val_rmse: 5.5868\n",
            "Epoch 100/100\n",
            "12/12 [==============================] - 0s 3ms/step - loss: 31.6734 - mae: 3.9582 - rmse: 5.6279 - val_loss: 30.9834 - val_mae: 3.7755 - val_rmse: 5.5663\n"
          ]
        }
      ],
      "source": [
        "# Fit your model\n",
        "\n",
        "history = reg_model.fit(X_train, y_train,\n",
        "                        validation_data = (X_test, y_test),\n",
        "                        epochs = 100)\n"
      ]
    },
    {
      "cell_type": "code",
      "execution_count": null,
      "metadata": {
        "ExecuteTime": {
          "end_time": "2023-01-31T20:05:08.472804Z",
          "start_time": "2023-01-31T20:05:07.989573Z"
        },
        "colab": {
          "base_uri": "https://localhost:8080/",
          "height": 809
        },
        "id": "q8Kox9hOOq7w",
        "outputId": "ff40a1f0-b4f3-48e8-9b75-69e219d7d572"
      },
      "outputs": [
        {
          "data": {
            "image/png": "[encoded data removed]",
            "text/plain": [
              "<Figure size 640x480 with 1 Axes>"
            ]
          },
          "metadata": {},
          "output_type": "display_data"
        },
        {
          "data": {
            "image/png": "[encoded data removed]",
            "text/plain": [
              "<Figure size 640x480 with 1 Axes>"
            ]
          },
          "metadata": {},
          "output_type": "display_data"
        },
        {
          "data": {
            "image/png": "[encoded data removed]",
            "text/plain": [
              "<Figure size 640x480 with 1 Axes>"
            ]
          },
          "metadata": {},
          "output_type": "display_data"
        }
      ],
      "source": [
        "# Apply the custom function to see how your model is doing\n",
        "plot_history(history)"
      ]
    },
    {
      "cell_type": "markdown",
      "metadata": {
        "id": "1Ic8eFsL_x2m"
      },
      "source": [
        "## Evaluation\n"
      ]
    },
    {
      "cell_type": "code",
      "execution_count": null,
      "metadata": {
        "ExecuteTime": {
          "end_time": "2023-01-31T20:05:08.673968Z",
          "start_time": "2023-01-31T20:05:08.473806Z"
        },
        "colab": {
          "base_uri": "https://localhost:8080/"
        },
        "id": "33J5dOt3A8ZO",
        "outputId": "25b6d584-eb7e-4251-82a4-dbe555a4ad74"
      },
      "outputs": [
        {
          "name": "stdout",
          "output_type": "stream",
          "text": [
            "12/12 [==============================] - 0s 816us/step\n",
            "4/4 [==============================] - 0s 997us/step\n"
          ]
        },
        {
          "data": {
            "text/html": [
              "<div>\n",
              "<style scoped>\n",
              "    .dataframe tbody tr th:only-of-type {\n",
              "        vertical-align: middle;\n",
              "    }\n",
              "\n",
              "    .dataframe tbody tr th {\n",
              "        vertical-align: top;\n",
              "    }\n",
              "\n",
              "    .dataframe thead th {\n",
              "        text-align: right;\n",
              "    }\n",
              "</style>\n",
              "<table border=\"1\" class=\"dataframe\">\n",
              "  <thead>\n",
              "    <tr style=\"text-align: right;\">\n",
              "      <th></th>\n",
              "      <th>MAE</th>\n",
              "      <th>RMSE</th>\n",
              "      <th>R2</th>\n",
              "    </tr>\n",
              "  </thead>\n",
              "  <tbody>\n",
              "    <tr>\n",
              "      <th>reg_model1 Train</th>\n",
              "      <td>3.941398</td>\n",
              "      <td>5.606805</td>\n",
              "      <td>0.645516</td>\n",
              "    </tr>\n",
              "    <tr>\n",
              "      <th>reg_model1 test</th>\n",
              "      <td>3.775498</td>\n",
              "      <td>5.566272</td>\n",
              "      <td>0.557552</td>\n",
              "    </tr>\n",
              "  </tbody>\n",
              "</table>\n",
              "</div>"
            ],
            "text/plain": [
              "                       MAE      RMSE        R2\n",
              "reg_model1 Train  3.941398  5.606805  0.645516\n",
              "reg_model1 test   3.775498  5.566272  0.557552"
            ]
          },
          "execution_count": 15,
          "metadata": {},
          "output_type": "execute_result"
        }
      ],
      "source": [
        "train_scores = eval_regression(reg_model, \n",
        "                         X_train, \n",
        "                         y_train, \n",
        "                         name='reg_model1 Train')\n",
        "test_scores = eval_regression(reg_model, \n",
        "                                       X_test, \n",
        "                                       y_test, \n",
        "                                       name='reg_model1 test')\n",
        "scores1 = pd.concat([train_scores, test_scores])\n",
        "scores1"
      ]
    },
    {
      "cell_type": "markdown",
      "metadata": {
        "id": "iwqrIe9HrQ-q"
      },
      "source": [
        "# <center> Attack Bias or Variance? </center>\n",
        "\n",
        "How should we tune this regression model?\n",
        "\n",
        "## Model 2"
      ]
    },
    {
      "cell_type": "code",
      "execution_count": null,
      "metadata": {
        "id": "EXx_plfIxgg_"
      },
      "outputs": [],
      "source": []
    },
    {
      "cell_type": "markdown",
      "metadata": {
        "id": "aAWoAWzbxgg_"
      },
      "source": [
        "## Model 3"
      ]
    },
    {
      "cell_type": "code",
      "execution_count": null,
      "metadata": {
        "id": "f1HiwKcAxgg_"
      },
      "outputs": [],
      "source": []
    }
  ],
  "metadata": {
    "colab": {
      "provenance": []
    },
    "kernelspec": {
      "display_name": "Python 3 (ipykernel)",
      "language": "python",
      "name": "python3"
    },
    "language_info": {
      "codemirror_mode": {
        "name": "ipython",
        "version": 3
      },
      "file_extension": ".py",
      "mimetype": "text/x-python",
      "name": "python",
      "nbconvert_exporter": "python",
      "pygments_lexer": "ipython3",
      "version": "3.9.15"
    },
    "toc": {
      "base_numbering": 1,
      "nav_menu": {},
      "number_sections": false,
      "sideBar": true,
      "skip_h1_title": false,
      "title_cell": "Table of Contents",
      "title_sidebar": "Contents",
      "toc_cell": false,
      "toc_position": {},
      "toc_section_display": true,
      "toc_window_display": false
    }
  },
  "nbformat": 4,
  "nbformat_minor": 0
}